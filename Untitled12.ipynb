{
 "cells": [
  {
   "cell_type": "code",
   "execution_count": null,
   "id": "93350b2f-4295-46be-8aac-bc3386f8cb83",
   "metadata": {},
   "outputs": [],
   "source": [
    "\"\"\"ans1) A database is a structured collection of data that is organized, managed, and accessed in a systematic way. \n",
    "It provides an efficient and reliable method for storing, retrieving, and manipulating large amounts of data.\n",
    "Databases are used in various applications and industries to handle data management tasks effectively.\n",
    "\n",
    "SQL databases are based on the relational model and use structured schemas to define the organization and relationships of the data.\n",
    "\n",
    "NoSQL databases use various data models to store and retrieve data, including key-value pairs, documents, columnar, and graph-based structures"
   ]
  },
  {
   "cell_type": "code",
   "execution_count": null,
   "id": "2b913483-11de-4552-b829-467f68cf5ff4",
   "metadata": {},
   "outputs": [],
   "source": [
    "\"\"\"ans2) DDL stands for Data Definition Language. It is a subset of SQL (Structured Query Language) that is used to define and \n",
    "         manage the structure of a database, including creating, modifying, and \n",
    "         deleting database objects such as tables, views, indexes, and constraints.\n",
    "         \n",
    "         CREATE:\n",
    "         The CREATE statement is used to create a new database object, such as a table, view, or index. \n",
    "         It specifies the object's name, structure, and other attributes.\n",
    "         \n",
    "         DROP:\n",
    "         The DROP statement is used to delete an existing database object, such as a table, view, or index.\n",
    "         It permanently removes the object and all its associated data.\n",
    "         \n",
    "         ALTER:\n",
    "         The ALTER statement is used to modify the structure of an existing database object.\n",
    "         It allows you to add, modify, or drop columns, constraints, or other attributes of a table, view, or index.\n",
    "         \n",
    "         TRUNCATE:\n",
    "         The TRUNCATE statement is used to delete all data from an existing table, but the table structure and its definition remain intact. \n",
    "         It is faster than using the DELETE statement to remove all rows"
   ]
  },
  {
   "cell_type": "code",
   "execution_count": null,
   "id": "50e19135-3e9f-4784-884c-e0f55df43dfd",
   "metadata": {},
   "outputs": [],
   "source": [
    "\"\"\"ans3) DML stands for Data Manipulation Language. It is a subset of SQL (Structured Query Language) \n",
    "         that is used to manipulate the data stored in a database.\n",
    "         DML statements are primarily used to insert, update, and delete data from database tables.\n",
    "         \n",
    "         INSERT:\n",
    "         The INSERT statement is used to insert new rows of data into a table. It specifies the table name and\n",
    "         the values to be inserted into the corresponding columns.\n",
    "         \n",
    "         UPDATE:\n",
    "         The UPDATE statement is used to modify existing data in a table. \n",
    "         It allows you to update specific columns or values based on specified conditions\n",
    "         \n",
    "         "
   ]
  },
  {
   "cell_type": "code",
   "execution_count": null,
   "id": "d7832681-2cb3-4078-9b4b-a9012c13022f",
   "metadata": {},
   "outputs": [],
   "source": [
    "\"\"\"ans4) DQL stands for Data Query Language, and it is a subset of the Structured Query Language (SQL) \n",
    "         that is specifically used for querying and retrieving data from a database. \n",
    "         DQL commands are designed to interact with the database to retrieve specific information based on the specified criteria.\n",
    "         \n",
    "         The SQL query using SELECT for this scenario would look like this:\n",
    "\n",
    "\n",
    "SELECT FirstName, LastName\n",
    "FROM Employees\n",
    "WHERE Department = 'Sales';"
   ]
  },
  {
   "cell_type": "code",
   "execution_count": null,
   "id": "cfc0b2e8-17ee-4a66-9924-3c7ae0cf6b40",
   "metadata": {},
   "outputs": [],
   "source": [
    "\"\"\"ans5) Primary key:\n",
    "\n",
    "A primary key is a column or combination of columns in a database table that uniquely identifies each row in the table. A primary key cannot contain null values. A primary key can be a single column or a composite key, which is a combination of two or more columns.\n",
    "\n",
    "The primary key of a table is used to create a unique index on the table. This index can be used to quickly and efficiently find rows in the table.\n",
    "\n",
    "Foreign key:\n",
    "\n",
    "A foreign key is a column or combination of columns in a database table that references a primary key in another table. A foreign key cannot contain null values. A foreign key is used to establish a relationship between two tables.\n",
    "\n",
    "The foreign key of a table must contain the same data as the primary key of the table that it references. This ensures that the data in the two tables is consistent."
   ]
  },
  {
   "cell_type": "code",
   "execution_count": null,
   "id": "b072fdc1-1909-48fe-9e71-1001db140b17",
   "metadata": {},
   "outputs": [],
   "source": [
    "\"\"\"ans6) Write a python code to connect MySQL to python. Explain the cursor() and execute() method.\n",
    "\n",
    "import mysql.connector\n",
    "\n",
    "# Create a connection object\n",
    "connection = mysql.connector.connect(\n",
    "    host=\"localhost\",\n",
    "    user=\"root\",\n",
    "    password=\"password\",\n",
    "    database=\"mydb\"\n",
    ")\n",
    "\n",
    "# Create a cursor object\n",
    "cursor = connection.cursor()\n",
    "\n",
    "# Execute a query\n",
    "cursor.execute(\"SELECT * FROM users\")\n",
    "\n",
    "# Fetch the results\n",
    "results = cursor.fetchall()\n",
    "\n",
    "# Print the results\n",
    "for row in results:\n",
    "    print(row)\n",
    "\n",
    "# Close the cursor and connection\n",
    "cursor.close()\n",
    "connection.close()\n",
    "\n",
    "cursor(): The cursor() method creates a cursor object. A cursor object is used to execute SQL queries and fetch the results.\n",
    "          The cursor object is returned by the cursor() method.\n",
    "\n",
    "execute(): The execute() method executes an SQL query. The execute() method takes an SQL query as its argument. \n",
    "          The execute() method returns a boolean value indicating whether the query was executed successfully."
   ]
  },
  {
   "cell_type": "code",
   "execution_count": null,
   "id": "a134c05f-3cdf-4f79-a635-aa1c7e3f7858",
   "metadata": {},
   "outputs": [],
   "source": []
  }
 ],
 "metadata": {
  "kernelspec": {
   "display_name": "Python 3 (ipykernel)",
   "language": "python",
   "name": "python3"
  },
  "language_info": {
   "codemirror_mode": {
    "name": "ipython",
    "version": 3
   },
   "file_extension": ".py",
   "mimetype": "text/x-python",
   "name": "python",
   "nbconvert_exporter": "python",
   "pygments_lexer": "ipython3",
   "version": "3.10.8"
  }
 },
 "nbformat": 4,
 "nbformat_minor": 5
}
